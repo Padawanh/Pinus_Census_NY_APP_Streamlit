{
 "cells": [
  {
   "cell_type": "markdown",
   "id": "76269ec1-cfd3-4617-b817-9ba4eb796a19",
   "metadata": {
    "tags": []
   },
   "source": [
    "# Relatório do senso das árvores de pinus de na cidade de Nova York em 2015\n",
    "\n",
    "Esse conjunto de dados inclui um registro para cada árvore na cidade de Nova York e inclui a localização da árvore por bairro e latitude/longitude, espécies por nome latino e nomes comuns, tamanho e  saúde. O censo de árvores de 2015 foi conduzido pela equipe da 'NYC Parks and Recreation, TreesCount!', equipe do programa e centenas de voluntários.\n",
    "\n",
    "**Datasets** \n",
    "\n",
    "[New York NTA](**Cr%C3%A9ditos**%20-%20%5Bhttps://data.cityofnewyork.us/City-Government/NTA-map/d3qk-pfyz%5D)\n",
    "\n",
    "[Tree Census in New York City](https://www.kaggle.com/datasets/nycparks/tree-census)"
   ]
  },
  {
   "cell_type": "markdown",
   "id": "a7fbfc53-1c0f-4086-b32f-da99479072e2",
   "metadata": {},
   "source": [
    "# Resumo dos dados"
   ]
  },
  {
   "cell_type": "code",
   "execution_count": null,
   "id": "c3f9ebd3",
   "metadata": {
    "ExecuteTime": {
     "end_time": "2022-03-30T01:29:20.839713Z",
     "start_time": "2022-03-30T01:29:19.051427Z"
    }
   },
   "outputs": [],
   "source": [
    "import pandas as pd\n",
    "from json import load\n",
    "import plotly.graph_objects as go\n"
   ]
  },
  {
   "cell_type": "markdown",
   "id": "32d22686-76d7-4fe6-9cd9-c031d3f62178",
   "metadata": {},
   "source": [
    "Importe os dados e visualize os nomes das colunas"
   ]
  },
  {
   "cell_type": "code",
   "execution_count": null,
   "id": "cddc65b7-73f0-45a1-a919-37fd855bb530",
   "metadata": {},
   "outputs": [],
   "source": [
    "'''\n",
    "#Processando dados originais\n",
    "df_2015=pd.read_csv('new_york_tree_census_2015.csv')\n",
    "df_2015[['spc_common','tree_dbh', 'stump_diam','status','health','problems','problems', 'root_stone','root_grate', 'root_other','nta','latitude','longitude']].head()\n",
    "temp_df=df_2015.dropna().loc[df_2015.dropna()['spc_common'].str.contains('pine')][['spc_common','tree_dbh', 'stump_diam','status','health','problems','problems', 'root_stone','root_grate', 'root_other','nta','latitude','longitude']]\n",
    "'''\n",
    "temp_df = pd.read_csv('pine_NY_2015.csv')\n",
    "temp_df.head(4)"
   ]
  },
  {
   "cell_type": "markdown",
   "id": "316ca9db-a201-405a-8666-502b3a9e5be0",
   "metadata": {},
   "source": [
    "Importando dado geográfico dos bairros."
   ]
  },
  {
   "cell_type": "code",
   "execution_count": null,
   "id": "1b16f3f3-2349-4be9-a7a2-7b00a267ee00",
   "metadata": {},
   "outputs": [],
   "source": [
    "f = open('NTA_map.geojson')\n",
    "nta_json = load(f)\n",
    "for i in list(range(0,len(nta_json['features']))):\n",
    "    json_id=nta_json['features'][i]['properties']['ntacode']\n",
    "    nta_json['features'][i]['id']=json_id"
   ]
  },
  {
   "cell_type": "markdown",
   "id": "fc3249d5-d7bd-4ec5-814e-d8c18699800f",
   "metadata": {
    "tags": []
   },
   "source": [
    "# Funções de gráfico"
   ]
  },
  {
   "cell_type": "code",
   "execution_count": null,
   "id": "dd95143e-aea0-4731-9a3e-3d842b1553c1",
   "metadata": {},
   "outputs": [],
   "source": [
    "#plotlyTable\n",
    "def PotlyTable (df):\n",
    "    fig = go.Figure(data=[go.Table(header=dict(values=list(df.columns),\n",
    "                                               fill_color='paleturquoise',\n",
    "                                               align='center'),\n",
    "                                   cells=dict(values=[df[col] for col in list(df.columns.values) if True],\n",
    "                                              fill_color='lavender',\n",
    "                                              align='center',\n",
    "                                             height=30))])\n",
    "    return fig\n",
    "\n",
    "#PieChartPlotly\n",
    "def PieChartPlotly (df,col):\n",
    "    #df = Dataset\n",
    "    #col = Coluna para agrupar os dados\n",
    "    countCol = df.groupby(by=col).size()\n",
    "    labels = list(countCol.index)\n",
    "    values = list(countCol.values)\n",
    "    figPie = go.Figure(data=[go.Pie(labels=labels,\n",
    "                                    values=values,\n",
    "                                    textinfo='label+percent+value',\n",
    "                                    insidetextorientation='radial')\n",
    "                            ])\n",
    "    return figPie\n",
    "\n",
    "#BoxPlotPlotly\n",
    "def BoxPlotPlotly(df,col, colValue):\n",
    "    data=[]\n",
    "    for t in df[col].value_counts().index:\n",
    "        data.append(go.Box(y=df[colValue].loc[df[col]==t],\n",
    "                       name = t))\n",
    "    BoxPlotfig = go.Figure(data=data)\n",
    "    return BoxPlotfig\n",
    "\n",
    "#ChoropletEspPlotly\n",
    "def ChoropletEspPlotly(df,col_count,option,georef,colref,name):\n",
    "    ChoropletGRaf = go.Choroplethmapbox(geojson=georef, \n",
    "                                locations=df[colref].loc[df[col_count]==option].value_counts().index, \n",
    "                                z=df[colref].loc[df[col_count]==option].value_counts().values,\n",
    "                                colorbar=dict(title=name),\n",
    "                                colorscale=\"YlGn\"\n",
    "                                )\n",
    "    return ChoropletGRaf\n",
    "\n",
    "#ScatterMapPotly\n",
    "def ScatterMapPotly(df,option,colOption,label):\n",
    "    Scatter = go.Scattermapbox(lat=df.loc[df[colOption]==option]['latitude'],\n",
    "                           lon=df.loc[df[colOption]==option]['longitude'],\n",
    "                           mode='markers',\n",
    "                           marker=go.scattermapbox.Marker(size=5,color='black'),\n",
    "                           hovertext=df.loc[df[colOption]==option][label])\n",
    "    return Scatter"
   ]
  },
  {
   "cell_type": "markdown",
   "id": "3aee4d41-746b-40e4-aa38-f143493acd52",
   "metadata": {
    "tags": []
   },
   "source": [
    "# Gráficos"
   ]
  },
  {
   "cell_type": "code",
   "execution_count": null,
   "id": "2c0c3d45-7bb5-4f93-88a2-a7dd1a13b743",
   "metadata": {},
   "outputs": [],
   "source": [
    "simpletable = temp_df.loc[:,['spc_common','tree_dbh','health','nta','latitude','longitude']].head(10) #Tabela resumida\n",
    "PotlyTable(simpletable).update_layout(margin={\"r\":10,\"t\":50,\"l\":0,\"b\":0},title='Amostra do censo de Espécies de Pinus em NY').show()"
   ]
  },
  {
   "cell_type": "code",
   "execution_count": null,
   "id": "82e2d597-d745-4366-8e9d-53ca5c3e63ac",
   "metadata": {},
   "outputs": [],
   "source": [
    "figPie = PieChartPlotly(temp_df,\"spc_common\").update_layout(margin={\"r\":0,\"t\":50,\"l\":0,\"b\":0}, title='Percentual de Espécies de Pinus em NY')\n",
    "figPie.show()"
   ]
  },
  {
   "cell_type": "code",
   "execution_count": null,
   "id": "05ab4e73-6071-40b1-8c3b-efc23d19205c",
   "metadata": {},
   "outputs": [],
   "source": [
    "BoxPlotfig = BoxPlotPlotly(df = temp_df, col = 'spc_common',colValue = 'tree_dbh').update_layout(title=\"Box-plot DAP por Espécie\",yaxis=dict( title='DAP'))\n",
    "BoxPlotfig.show()"
   ]
  },
  {
   "cell_type": "markdown",
   "id": "988bea14-a3ca-402c-84f1-89a5bff2d163",
   "metadata": {
    "tags": []
   },
   "source": [
    "# Choroplet Geral"
   ]
  },
  {
   "cell_type": "code",
   "execution_count": null,
   "id": "1a5d5089-a88b-4907-b7fc-a936a269f778",
   "metadata": {},
   "outputs": [],
   "source": [
    "data=[]\n",
    "data.append(go.Choroplethmapbox(geojson=nta_json, \n",
    "                                locations=temp_df.nta.value_counts().index, \n",
    "                                z=temp_df.nta.value_counts().values,\n",
    "                                colorbar=dict(title='Num. Árvores'),\n",
    "                                colorscale=\"YlGn\",marker_opacity=0.3\n",
    "                                ))\n",
    "\n",
    "data[0]['visible']=True\n",
    "\n",
    "\n",
    "layout=go.Layout(mapbox_style=\"white-bg\",\n",
    "                 mapbox_layers=[{\"below\": 'traces',\n",
    "                                 \"sourcetype\": \"raster\",\n",
    "                                 \"sourceattribution\": \"United States Geological Survey\",\n",
    "                                 \"source\": [\"https://basemap.nationalmap.gov/arcgis/rest/services/USGSImageryOnly/MapServer/tile/{z}/{y}/{x}\"]}],\n",
    "                 mapbox_zoom=8.5, mapbox_center = {\"lat\": 40.7, \"lon\": -73.86})\n",
    "\n",
    "    \n",
    "fig = go.Figure(data=data,layout=layout)\n",
    "fig.update_layout(margin={\"r\":0,\"t\":0,\"l\":0,\"b\":0})\n",
    "fig.show()"
   ]
  },
  {
   "cell_type": "markdown",
   "id": "1d4e6508-6159-490f-a5cb-5a0ab5730cba",
   "metadata": {
    "tags": []
   },
   "source": [
    "# Choroplet por especie"
   ]
  },
  {
   "cell_type": "code",
   "execution_count": null,
   "id": "811c7ffe-7425-4032-940e-3c77f7b9d83b",
   "metadata": {},
   "outputs": [],
   "source": [
    "scp = [t for t in temp_df['spc_common'].value_counts().index if True]\n",
    "scp"
   ]
  },
  {
   "cell_type": "code",
   "execution_count": null,
   "id": "7db8baed-c1f3-4a30-90d1-f72a5b0da820",
   "metadata": {},
   "outputs": [],
   "source": [
    "x = 1\n",
    "ChoropletGraf = go.Figure(ChoropletEspPlotly(df = temp_df,\n",
    "                                   col_count = 'spc_common',\n",
    "                                   option = scp[x],\n",
    "                                   georef =nta_json,\n",
    "                                   colref='nta',\n",
    "                                   name='Num. Árvores')).update_layout(margin={\"r\":0,\"t\":50,\"l\":0,\"b\":0},\n",
    "                                                                      mapbox_style=\"carto-positron\",\n",
    "                                                                      mapbox_zoom=8.5,\n",
    "                                                                      mapbox_center = {\"lat\": 40.7, \"lon\": -73.86},title=f\"Número de árvores de {scp[x]} por Bairro de NY\")\n",
    "ChoropletGraf.show()"
   ]
  },
  {
   "cell_type": "markdown",
   "id": "66dabcf4-6071-470a-90c4-03f13832a95f",
   "metadata": {
    "tags": []
   },
   "source": [
    "# Histogram especie"
   ]
  },
  {
   "cell_type": "code",
   "execution_count": null,
   "id": "57297c0e-879e-4089-aff2-011fe0c63ef0",
   "metadata": {},
   "outputs": [],
   "source": [
    "x = 0\n",
    "BoxPlotfig = BoxPlotPlotly(df = temp_df.loc[temp_df['spc_common']==scp[x]],\n",
    "                           col = 'spc_common',\n",
    "                           colValue = 'tree_dbh').update_layout(title=\"Box-plot DAP por Espécie\",yaxis=dict( title='DAP'))\n",
    "BoxPlotfig.show()"
   ]
  },
  {
   "cell_type": "markdown",
   "id": "a959c2ed-5395-47ca-9b05-40554ea8faef",
   "metadata": {
    "tags": []
   },
   "source": [
    "# Pontos de Pinus"
   ]
  },
  {
   "cell_type": "markdown",
   "id": "f0ffc761-bbc4-4df4-a06f-1be519d4ee01",
   "metadata": {},
   "source": [
    "Mapa de pontos dos tipos de pinheiros. O mapa é gerado para corresponder a todos ou usos parciais da string de entrada. Cada correspondência de espécies recebe uma cor e permite que as espécies sejam selecionadas ou desmarcadas na legenda do lado direito."
   ]
  },
  {
   "cell_type": "code",
   "execution_count": null,
   "id": "956d5d89-f4f4-4c3d-8df8-27a7a6f55df7",
   "metadata": {},
   "outputs": [],
   "source": [
    "Scatter = ScatterMapPotly(df=temp_df,\n",
    "                          option=scp[x],\n",
    "                          colOption='spc_common',\n",
    "                          label='nta')\n",
    "\n",
    "\n",
    "\n",
    "Choroplet = ChoropletEspPlotly(df = temp_df,\n",
    "                                   col_count = 'spc_common',\n",
    "                                   option = scp[x],\n",
    "                                   georef =nta_json,\n",
    "                                   colref='nta',\n",
    "                                   name='Num. Árvores')\n",
    "\n",
    "layout=go.Layout(mapbox_style=\"carto-positron\",\n",
    "                 mapbox_zoom=9,\n",
    "                 mapbox_center = {\"lat\": 40.7, \"lon\": -73.86},\n",
    "                 margin={\"r\":0,\"t\":10,\"l\":0,\"b\":0})\n",
    "\n",
    "fig = go.Figure(data=[Choroplet,Scatter],layout=layout)\n",
    "fig.show()"
   ]
  }
 ],
 "metadata": {
  "kernelspec": {
   "display_name": "Python 3 (ipykernel)",
   "language": "python",
   "name": "python3"
  },
  "language_info": {
   "codemirror_mode": {
    "name": "ipython",
    "version": 3
   },
   "file_extension": ".py",
   "mimetype": "text/x-python",
   "name": "python",
   "nbconvert_exporter": "python",
   "pygments_lexer": "ipython3",
   "version": "3.9.0"
  },
  "toc-autonumbering": false,
  "toc-showcode": false,
  "toc-showmarkdowntxt": false,
  "toc-showtags": false,
  "varInspector": {
   "cols": {
    "lenName": 16,
    "lenType": 16,
    "lenVar": 40
   },
   "kernels_config": {
    "python": {
     "delete_cmd_postfix": "",
     "delete_cmd_prefix": "del ",
     "library": "var_list.py",
     "varRefreshCmd": "print(var_dic_list())"
    },
    "r": {
     "delete_cmd_postfix": ") ",
     "delete_cmd_prefix": "rm(",
     "library": "var_list.r",
     "varRefreshCmd": "cat(var_dic_list()) "
    }
   },
   "types_to_exclude": [
    "module",
    "function",
    "builtin_function_or_method",
    "instance",
    "_Feature"
   ],
   "window_display": false
  }
 },
 "nbformat": 4,
 "nbformat_minor": 5
}
